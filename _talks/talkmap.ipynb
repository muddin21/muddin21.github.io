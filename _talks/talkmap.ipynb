{
 "cells": [
  {
   "cell_type": "markdown",
   "metadata": {},
   "source": [
    "# Leaflet cluster map of talk locations\n",
    "\n",
    "Run this from the _talks/ directory, which contains .md files of all your talks. This scrapes the location YAML field from each .md file, geolocates it with geopy/Nominatim, and uses the getorg library to output data, HTML, and Javascript for a standalone cluster map."
   ]
  },
  {
   "cell_type": "code",
   "execution_count": 1,
   "metadata": {
    "collapsed": false
   },
   "outputs": [
    {
     "name": "stderr",
     "output_type": "stream",
     "text": [
      "\n",
      "[notice] A new release of pip is available: 24.2 -> 24.3.1\n",
      "[notice] To update, run: python.exe -m pip install --upgrade pip\n"
     ]
    },
    {
     "name": "stdout",
     "output_type": "stream",
     "text": [
      "Collecting getorg\n",
      "  Downloading getorg-0.3.1-py2.py3-none-any.whl.metadata (326 bytes)\n",
      "Collecting geopy (from getorg)\n",
      "  Downloading geopy-2.4.1-py3-none-any.whl.metadata (6.8 kB)\n",
      "Collecting pygithub (from getorg)\n",
      "  Downloading PyGithub-2.5.0-py3-none-any.whl.metadata (3.9 kB)\n",
      "Requirement already satisfied: retrying in c:\\users\\mosle\\anaconda3\\lib\\site-packages (from getorg) (1.3.4)\n",
      "Collecting geographiclib<3,>=1.52 (from geopy->getorg)\n",
      "  Downloading geographiclib-2.0-py3-none-any.whl.metadata (1.4 kB)\n",
      "Requirement already satisfied: pynacl>=1.4.0 in c:\\users\\mosle\\anaconda3\\lib\\site-packages (from pygithub->getorg) (1.5.0)\n",
      "Requirement already satisfied: requests>=2.14.0 in c:\\users\\mosle\\anaconda3\\lib\\site-packages (from pygithub->getorg) (2.31.0)\n",
      "Requirement already satisfied: pyjwt>=2.4.0 in c:\\users\\mosle\\anaconda3\\lib\\site-packages (from pyjwt[crypto]>=2.4.0->pygithub->getorg) (2.4.0)\n",
      "Requirement already satisfied: typing-extensions>=4.0.0 in c:\\users\\mosle\\anaconda3\\lib\\site-packages (from pygithub->getorg) (4.9.0)\n",
      "Requirement already satisfied: urllib3>=1.26.0 in c:\\users\\mosle\\anaconda3\\lib\\site-packages (from pygithub->getorg) (2.0.7)\n",
      "Collecting Deprecated (from pygithub->getorg)\n",
      "  Downloading Deprecated-1.2.15-py2.py3-none-any.whl.metadata (5.5 kB)\n",
      "Requirement already satisfied: six>=1.7.0 in c:\\users\\mosle\\anaconda3\\lib\\site-packages (from retrying->getorg) (1.16.0)\n",
      "Requirement already satisfied: cryptography>=3.3.1 in c:\\users\\mosle\\anaconda3\\lib\\site-packages (from pyjwt[crypto]>=2.4.0->pygithub->getorg) (42.0.2)\n",
      "Requirement already satisfied: cffi>=1.4.1 in c:\\users\\mosle\\anaconda3\\lib\\site-packages (from pynacl>=1.4.0->pygithub->getorg) (1.16.0)\n",
      "Requirement already satisfied: charset-normalizer<4,>=2 in c:\\users\\mosle\\anaconda3\\lib\\site-packages (from requests>=2.14.0->pygithub->getorg) (2.0.4)\n",
      "Requirement already satisfied: idna<4,>=2.5 in c:\\users\\mosle\\anaconda3\\lib\\site-packages (from requests>=2.14.0->pygithub->getorg) (3.4)\n",
      "Requirement already satisfied: certifi>=2017.4.17 in c:\\users\\mosle\\anaconda3\\lib\\site-packages (from requests>=2.14.0->pygithub->getorg) (2024.8.30)\n",
      "Requirement already satisfied: wrapt<2,>=1.10 in c:\\users\\mosle\\anaconda3\\lib\\site-packages (from Deprecated->pygithub->getorg) (1.14.1)\n",
      "Requirement already satisfied: pycparser in c:\\users\\mosle\\anaconda3\\lib\\site-packages (from cffi>=1.4.1->pynacl>=1.4.0->pygithub->getorg) (2.21)\n",
      "Downloading getorg-0.3.1-py2.py3-none-any.whl (39 kB)\n",
      "Downloading geopy-2.4.1-py3-none-any.whl (125 kB)\n",
      "Downloading PyGithub-2.5.0-py3-none-any.whl (375 kB)\n",
      "Downloading geographiclib-2.0-py3-none-any.whl (40 kB)\n",
      "Downloading Deprecated-1.2.15-py2.py3-none-any.whl (9.9 kB)\n",
      "Installing collected packages: geographiclib, Deprecated, geopy, pygithub, getorg\n",
      "Successfully installed Deprecated-1.2.15 geographiclib-2.0 geopy-2.4.1 getorg-0.3.1 pygithub-2.5.0\n",
      "Iywidgets and ipyleaflet support disabled. You must be in a Jupyter notebook to use this feature.\n",
      "Error raised:\n",
      "No module named 'ipyleaflet'\n",
      "Check that you have enabled ipyleaflet in Jupyter with:\n",
      "    jupyter nbextension enable --py ipyleaflet\n"
     ]
    }
   ],
   "source": [
    "!pip install getorg --upgrade\n",
    "import glob\n",
    "import getorg\n",
    "from geopy import Nominatim"
   ]
  },
  {
   "cell_type": "code",
   "execution_count": 2,
   "metadata": {
    "collapsed": false
   },
   "outputs": [],
   "source": [
    "g = glob.glob(\"*.md\")"
   ]
  },
  {
   "cell_type": "code",
   "execution_count": 3,
   "metadata": {
    "collapsed": true
   },
   "outputs": [],
   "source": [
    "geocoder = Nominatim(user_agent=\"md\")\n",
    "location_dict = {}\n",
    "location = \"\"\n",
    "permalink = \"\"\n",
    "title = \"\""
   ]
  },
  {
   "cell_type": "code",
   "execution_count": 4,
   "metadata": {
    "collapsed": false
   },
   "outputs": [
    {
     "name": "stdout",
     "output_type": "stream",
     "text": [
      "New Orleans, LA \n",
      " New Orleans, Orleans Parish, Louisiana, United States\n",
      "Baton Rouge, LA \n",
      " Baton Rouge, East Baton Rouge Parish, Louisiana, United States\n"
     ]
    }
   ],
   "source": [
    "\n",
    "for file in g:\n",
    "    with open(file, 'r') as f:\n",
    "        lines = f.read()\n",
    "        if lines.find('location: \"') > 1:\n",
    "            loc_start = lines.find('location: \"') + 11\n",
    "            lines_trim = lines[loc_start:]\n",
    "            loc_end = lines_trim.find('\"')\n",
    "            location = lines_trim[:loc_end]\n",
    "                            \n",
    "           \n",
    "        location_dict[location] = geocoder.geocode(location)\n",
    "        print(location, \"\\n\", location_dict[location])\n"
   ]
  },
  {
   "cell_type": "code",
   "execution_count": 5,
   "metadata": {
    "collapsed": false
   },
   "outputs": [
    {
     "data": {
      "text/plain": [
       "'Written map to ../talkmap/'"
      ]
     },
     "execution_count": 5,
     "metadata": {},
     "output_type": "execute_result"
    }
   ],
   "source": [
    "m = getorg.orgmap.create_map_obj()\n",
    "getorg.orgmap.output_html_cluster_map(location_dict, folder_name=\"../talkmap\", hashed_usernames=False)"
   ]
  },
  {
   "cell_type": "code",
   "execution_count": null,
   "metadata": {
    "collapsed": true
   },
   "outputs": [],
   "source": []
  }
 ],
 "metadata": {
  "anaconda-cloud": {},
  "kernelspec": {
   "display_name": "base",
   "language": "python",
   "name": "python3"
  },
  "language_info": {
   "codemirror_mode": {
    "name": "ipython",
    "version": 3
   },
   "file_extension": ".py",
   "mimetype": "text/x-python",
   "name": "python",
   "nbconvert_exporter": "python",
   "pygments_lexer": "ipython3",
   "version": "3.11.10"
  }
 },
 "nbformat": 4,
 "nbformat_minor": 0
}
