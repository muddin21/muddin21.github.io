{
 "cells": [
  {
   "cell_type": "markdown",
   "metadata": {},
   "source": [
    "# Leaflet cluster map of talk locations\n",
    "\n",
    "Run this from the _talks/ directory, which contains .md files of all your talks. This scrapes the location YAML field from each .md file, geolocates it with geopy/Nominatim, and uses the getorg library to output data, HTML, and Javascript for a standalone cluster map."
   ]
  },
  {
   "cell_type": "code",
   "execution_count": 6,
   "metadata": {
    "collapsed": false
   },
   "outputs": [
    {
     "name": "stdout",
     "output_type": "stream",
     "text": [
      "Requirement already satisfied: getorg in c:\\users\\mosle\\anaconda3\\lib\\site-packages (0.3.1)\n",
      "Requirement already satisfied: retrying in c:\\users\\mosle\\anaconda3\\lib\\site-packages (from getorg) (1.3.4)\n",
      "Requirement already satisfied: pygithub in c:\\users\\mosle\\anaconda3\\lib\\site-packages (from getorg) (2.1.1)\n",
      "Requirement already satisfied: geopy in c:\\users\\mosle\\anaconda3\\lib\\site-packages (from getorg) (2.4.1)\n",
      "Requirement already satisfied: geographiclib<3,>=1.52 in c:\\users\\mosle\\anaconda3\\lib\\site-packages (from geopy->getorg) (2.0)\n",
      "Requirement already satisfied: python-dateutil in c:\\users\\mosle\\anaconda3\\lib\\site-packages (from pygithub->getorg) (2.8.2)\n",
      "Requirement already satisfied: pyjwt[crypto]>=2.4.0 in c:\\users\\mosle\\anaconda3\\lib\\site-packages (from pygithub->getorg) (2.4.0)\n",
      "Requirement already satisfied: requests>=2.14.0 in c:\\users\\mosle\\anaconda3\\lib\\site-packages (from pygithub->getorg) (2.28.1)\n",
      "Requirement already satisfied: pynacl>=1.4.0 in c:\\users\\mosle\\anaconda3\\lib\\site-packages (from pygithub->getorg) (1.5.0)\n",
      "Requirement already satisfied: urllib3>=1.26.0 in c:\\users\\mosle\\anaconda3\\lib\\site-packages (from pygithub->getorg) (1.26.14)\n",
      "Requirement already satisfied: typing-extensions>=4.0.0 in c:\\users\\mosle\\anaconda3\\lib\\site-packages (from pygithub->getorg) (4.8.0)\n",
      "Requirement already satisfied: Deprecated in c:\\users\\mosle\\anaconda3\\lib\\site-packages (from pygithub->getorg) (1.2.14)\n",
      "Requirement already satisfied: six>=1.7.0 in c:\\users\\mosle\\anaconda3\\lib\\site-packages (from retrying->getorg) (1.16.0)\n",
      "Requirement already satisfied: cryptography>=3.3.1 in c:\\users\\mosle\\anaconda3\\lib\\site-packages (from pyjwt[crypto]>=2.4.0->pygithub->getorg) (39.0.1)\n",
      "Requirement already satisfied: cffi>=1.4.1 in c:\\users\\mosle\\anaconda3\\lib\\site-packages (from pynacl>=1.4.0->pygithub->getorg) (1.15.1)\n",
      "Requirement already satisfied: certifi>=2017.4.17 in c:\\users\\mosle\\anaconda3\\lib\\site-packages (from requests>=2.14.0->pygithub->getorg) (2023.7.22)\n",
      "Requirement already satisfied: idna<4,>=2.5 in c:\\users\\mosle\\anaconda3\\lib\\site-packages (from requests>=2.14.0->pygithub->getorg) (3.4)\n",
      "Requirement already satisfied: charset-normalizer<3,>=2 in c:\\users\\mosle\\anaconda3\\lib\\site-packages (from requests>=2.14.0->pygithub->getorg) (2.0.4)\n",
      "Requirement already satisfied: wrapt<2,>=1.10 in c:\\users\\mosle\\anaconda3\\lib\\site-packages (from Deprecated->pygithub->getorg) (1.14.1)\n",
      "Requirement already satisfied: pycparser in c:\\users\\mosle\\anaconda3\\lib\\site-packages (from cffi>=1.4.1->pynacl>=1.4.0->pygithub->getorg) (2.21)\n"
     ]
    }
   ],
   "source": [
    "!pip install getorg --upgrade\n",
    "import glob\n",
    "import getorg\n",
    "from geopy import Nominatim"
   ]
  },
  {
   "cell_type": "code",
   "execution_count": 7,
   "metadata": {
    "collapsed": false
   },
   "outputs": [],
   "source": [
    "g = glob.glob(\"*.md\")"
   ]
  },
  {
   "cell_type": "code",
   "execution_count": 8,
   "metadata": {
    "collapsed": true
   },
   "outputs": [],
   "source": [
    "geocoder = Nominatim(user_agent=\"md\")\n",
    "location_dict = {}\n",
    "location = \"\"\n",
    "permalink = \"\"\n",
    "title = \"\""
   ]
  },
  {
   "cell_type": "code",
   "execution_count": 9,
   "metadata": {
    "collapsed": false
   },
   "outputs": [
    {
     "name": "stdout",
     "output_type": "stream",
     "text": [
      "New Orleans, LA \n",
      " New Orleans, Orleans Parish, Louisiana, United States\n",
      "Baton Rouge, LA \n",
      " Baton Rouge, East Baton Rouge Parish, Louisiana, United States\n"
     ]
    }
   ],
   "source": [
    "\n",
    "for file in g:\n",
    "    with open(file, 'r') as f:\n",
    "        lines = f.read()\n",
    "        if lines.find('location: \"') > 1:\n",
    "            loc_start = lines.find('location: \"') + 11\n",
    "            lines_trim = lines[loc_start:]\n",
    "            loc_end = lines_trim.find('\"')\n",
    "            location = lines_trim[:loc_end]\n",
    "                            \n",
    "           \n",
    "        location_dict[location] = geocoder.geocode(location)\n",
    "        print(location, \"\\n\", location_dict[location])\n"
   ]
  },
  {
   "cell_type": "code",
   "execution_count": 10,
   "metadata": {
    "collapsed": false
   },
   "outputs": [
    {
     "data": {
      "text/plain": [
       "'Written map to ../talkmap/'"
      ]
     },
     "execution_count": 10,
     "metadata": {},
     "output_type": "execute_result"
    }
   ],
   "source": [
    "m = getorg.orgmap.create_map_obj()\n",
    "getorg.orgmap.output_html_cluster_map(location_dict, folder_name=\"../talkmap\", hashed_usernames=False)"
   ]
  },
  {
   "cell_type": "code",
   "execution_count": null,
   "metadata": {
    "collapsed": true
   },
   "outputs": [],
   "source": []
  }
 ],
 "metadata": {
  "anaconda-cloud": {},
  "kernelspec": {
   "display_name": "Python 3",
   "language": "python",
   "name": "python3"
  },
  "language_info": {
   "codemirror_mode": {
    "name": "ipython",
    "version": 3
   },
   "file_extension": ".py",
   "mimetype": "text/x-python",
   "name": "python",
   "nbconvert_exporter": "python",
   "pygments_lexer": "ipython3",
   "version": "3.10.9"
  }
 },
 "nbformat": 4,
 "nbformat_minor": 0
}
